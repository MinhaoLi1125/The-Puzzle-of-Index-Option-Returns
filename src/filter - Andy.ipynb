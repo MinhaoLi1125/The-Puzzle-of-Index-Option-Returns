{
 "cells": [
  {
   "cell_type": "code",
   "execution_count": 17,
   "metadata": {},
   "outputs": [],
   "source": [
    "import pandas as pd"
   ]
  },
  {
   "cell_type": "code",
   "execution_count": 18,
   "metadata": {
    "collapsed": true,
    "jupyter": {
     "outputs_hidden": true
    }
   },
   "outputs": [
    {
     "data": {
      "text/plain": [
       "Index(['secid', 'date', 'symbol', 'symbol_flag', 'exdate', 'last_date',\n",
       "       'cp_flag', 'strike_price', 'best_bid', 'best_offer', 'volume',\n",
       "       'open_interest', 'impl_volatility', 'delta', 'gamma', 'vega', 'theta',\n",
       "       'optionid', 'cfadj', 'am_settlement', 'contract_size', 'ss_flag',\n",
       "       'forward_price', 'expiry_indicator', 'root', 'suffix', 'cusip',\n",
       "       'ticker', 'sic', 'index_flag', 'exchange_d', 'class', 'issue_type',\n",
       "       'industry_group', 'issuer', 'div_convention', 'exercise_style',\n",
       "       'am_set_flag'],\n",
       "      dtype='object')"
      ]
     },
     "execution_count": 18,
     "metadata": {},
     "output_type": "execute_result"
    }
   ],
   "source": [
    "path = r\"d4kejwsfx4zpccyq_small.csv\"\n",
    "\n",
    "df = pd.read_csv(path)\n",
    "df.columns"
   ]
  },
  {
   "cell_type": "code",
   "execution_count": null,
   "metadata": {},
   "outputs": [],
   "source": [
    "def DaystoMaturity_filter(df):\n",
    "    df['exdate'] = pd.to_datetime(df['exdate'])\n",
    "    df['date'] = pd.to_datetime(df['date'])\n",
    "    df['T-t'] = (df['exdate'] - df['date']).dt.days\n",
    "    df = df[df['T-t'] > 7]\n",
    "    df = df[df['T-t'] < 180]\n",
    "    return df\n",
    "\n",
    "def ExtremeIV_filter(df):\n",
    "    df = df[df['impl_volatility'] > 0.05]\n",
    "    df = df[df['impl_volatility'] < 1.0]\n",
    "    return df"
   ]
  }
 ],
 "metadata": {
  "kernelspec": {
   "display_name": "Python 3 (ipykernel)",
   "language": "python",
   "name": "python3"
  },
  "language_info": {
   "codemirror_mode": {
    "name": "ipython",
    "version": 3
   },
   "file_extension": ".py",
   "mimetype": "text/x-python",
   "name": "python",
   "nbconvert_exporter": "python",
   "pygments_lexer": "ipython3",
   "version": "3.11.7"
  }
 },
 "nbformat": 4,
 "nbformat_minor": 4
}
